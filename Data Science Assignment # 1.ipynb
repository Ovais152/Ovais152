{
 "cells": [
  {
   "cell_type": "code",
   "execution_count": 1,
   "id": "47403ed6",
   "metadata": {},
   "outputs": [
    {
     "name": "stdout",
     "output_type": "stream",
     "text": [
      "Hello world\n"
     ]
    }
   ],
   "source": [
    "print (\"Hello world\")"
   ]
  },
  {
   "cell_type": "code",
   "execution_count": 2,
   "id": "bb2e58ce",
   "metadata": {},
   "outputs": [
    {
     "name": "stdout",
     "output_type": "stream",
     "text": [
      "Twinkle,twinkle, little star,\n",
      "        How I wonder what you are!\n",
      "                Up above the world so high,\n",
      "                Like a diamond in the sky.\n",
      "Twinkle,twinkle, little star,\n",
      "        How I wonder what you are!\n"
     ]
    }
   ],
   "source": [
    "a = \"Twinkle,twinkle, little star,\";\n",
    "b = \"        How I wonder what you are!\";\n",
    "c = \"                Up above the world so high,\" \n",
    "d = \"                Like a diamond in the sky.\"\n",
    "print (a)\n",
    "print (b)\n",
    "print (c)\n",
    "print (d)\n",
    "print (a)\n",
    "print (b)\n"
   ]
  },
  {
   "cell_type": "code",
   "execution_count": 3,
   "id": "65742c3b",
   "metadata": {},
   "outputs": [
    {
     "name": "stdout",
     "output_type": "stream",
     "text": [
      "python version\n",
      "3.9.7 (default, Sep 16 2021, 16:59:28) [MSC v.1916 64 bit (AMD64)]\n",
      "python info\n",
      "sys.version_info(major=3, minor=9, micro=7, releaselevel='final', serial=0)\n"
     ]
    }
   ],
   "source": [
    "import sys\n",
    "print (\"python version\")\n",
    "print (sys.version)\n",
    "print (\"python info\")\n",
    "print (sys.version_info)"
   ]
  },
  {
   "cell_type": "code",
   "execution_count": 4,
   "id": "bd6ae0fb",
   "metadata": {},
   "outputs": [
    {
     "name": "stdout",
     "output_type": "stream",
     "text": [
      "Current date and time is:\n",
      "01-01-22 02;04;04\n"
     ]
    }
   ],
   "source": [
    "import datetime\n",
    "now= datetime.datetime.now()\n",
    "print(\"Current date and time is:\")\n",
    "print (now.strftime(\"%d-%m-%y %H;%M;%S\"))"
   ]
  },
  {
   "cell_type": "code",
   "execution_count": 5,
   "id": "c3244fc2",
   "metadata": {},
   "outputs": [
    {
     "name": "stdout",
     "output_type": "stream",
     "text": [
      "Enter the radius of the circle:5\n",
      "The area of the circle is 78.53975\n"
     ]
    }
   ],
   "source": [
    "CONSTANT_PI = 3.14159\n",
    "radius = int(input(\"Enter the radius of the circle:\"))\n",
    "area = CONSTANT_PI * radius**2\n",
    "print(\"The area of the circle is\", area)"
   ]
  },
  {
   "cell_type": "code",
   "execution_count": 7,
   "id": "2b33d410",
   "metadata": {},
   "outputs": [
    {
     "name": "stdout",
     "output_type": "stream",
     "text": [
      "Ovais Muhammad\n"
     ]
    }
   ],
   "source": [
    "a = \" Muhammad\"\n",
    "b = \"Ovais\"\n",
    "c = b+a\n",
    "print (c)"
   ]
  },
  {
   "cell_type": "code",
   "execution_count": 8,
   "id": "f358cd69",
   "metadata": {},
   "outputs": [
    {
     "name": "stdout",
     "output_type": "stream",
     "text": [
      "11\n"
     ]
    }
   ],
   "source": [
    "a = 5\n",
    "b = 6\n",
    "c = a+b\n",
    "print (c)"
   ]
  },
  {
   "cell_type": "code",
   "execution_count": null,
   "id": "75d9ce51",
   "metadata": {},
   "outputs": [],
   "source": []
  }
 ],
 "metadata": {
  "kernelspec": {
   "display_name": "Python 3 (ipykernel)",
   "language": "python",
   "name": "python3"
  },
  "language_info": {
   "codemirror_mode": {
    "name": "ipython",
    "version": 3
   },
   "file_extension": ".py",
   "mimetype": "text/x-python",
   "name": "python",
   "nbconvert_exporter": "python",
   "pygments_lexer": "ipython3",
   "version": "3.9.7"
  }
 },
 "nbformat": 4,
 "nbformat_minor": 5
}
